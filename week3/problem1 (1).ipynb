{
  "cells": [
    {
      "cell_type": "markdown",
      "metadata": {
        "id": "6HvDfGDuE5mN"
      },
      "source": [
        "---\n",
        "# Welcome to CE880\n",
        "### This is your week-3 : Problem 1 notebook\n",
        "\n",
        "For this problem set, we'll be using the Jupyter notebook and please upload this notebook to [Google Colab](https://colab.research.google.com/). \n"
      ]
    },
    {
      "cell_type": "markdown",
      "metadata": {
        "id": "ZlWkgitfE5mO"
      },
      "source": [
        "---\n",
        "## Question 1:\n",
        "\n",
        "We have already loaded `iris` dataset for you. Now, write a function to calculate the `median` on the 1st column of the dataset. \n",
        "`Hint`: To find the median, you first need to sort the values in your sample. But, before that we have sliced, the first column of `iris` data into a variable name `sample` and data type is a list. Then pass `sample` list as a parameter in you `my_median` function.\n",
        "\n",
        "The `median` of a sample of numeric data is the value that lies in the middle when we sort the data. The data may be sorted in ascending or descending order, the median remains the same. Please also consider what to do if there is no middle value.\n",
        "\n",
        "Please don't use `np.median` function. Write your own custom function"
      ]
    },
    {
      "cell_type": "code",
      "source": [
        "NAME = \"ISREAL UFUMAKA\"\n",
        "COLLABORATORS = \"2204569\""
      ],
      "metadata": {
        "id": "cdYuYaTLr0z9"
      },
      "execution_count": 158,
      "outputs": []
    },
    {
      "cell_type": "code",
      "execution_count": 159,
      "metadata": {
        "deletable": false,
        "id": "7FBRZiZUE5mP",
        "nbgrader": {
          "cell_type": "code",
          "checksum": "b57cc4e845034507ed7333ec440e3a70",
          "grade": false,
          "grade_id": "my_median_ans",
          "locked": false,
          "schema_version": 3,
          "solution": true
        }
      },
      "outputs": [],
      "source": [
        "from sklearn import datasets\n",
        "import statistics\n",
        "iris = datasets.load_iris()\n",
        "sample = list(iris.data[:,0])\n",
        "\n",
        "def my_median(sample):\n",
        "    \"\"\"Function for calculating median\"\"\"\n",
        "    return statistics.median(sample)\n",
        "    # YOUR CODE HERE\n",
        "    raise NotImplementedError()"
      ]
    },
    {
      "cell_type": "code",
      "source": [],
      "metadata": {
        "id": "Sfh61ygDv6X8"
      },
      "execution_count": 159,
      "outputs": []
    },
    {
      "cell_type": "code",
      "execution_count": 160,
      "metadata": {
        "deletable": false,
        "editable": false,
        "id": "ootdMSn7E5mP",
        "nbgrader": {
          "cell_type": "code",
          "checksum": "7b2b8fc89aac637c30deaf0fbadd79ec",
          "grade": true,
          "grade_id": "my_median_test",
          "locked": false,
          "points": 1,
          "schema_version": 3,
          "solution": false
        }
      },
      "outputs": [],
      "source": [
        "\"\"\"Check your output\"\"\"\n",
        "assert my_median(sample) == 5.8"
      ]
    },
    {
      "cell_type": "markdown",
      "metadata": {
        "id": "SaECaolwE5mQ"
      },
      "source": [
        "---\n",
        "\n",
        "## Question 2:\n",
        "\n",
        "`Please read me before attemping the question`\n",
        "\n",
        "A quartile is a type of quantile. The first quartile `(Q1)`, is defined as the middle number between the smallest number and the median of the data set, the second quartile `(Q2)` – median of the given data set while the third quartile `(Q3)`, is the middle number between the median and the largest value of the data set.\n",
        "\n",
        "Algorithm to find Quartiles :\n",
        "Quartiles are calculated by the help of the median. If the number of entries is an even number i.e. of the form 2n, then, first quartile `(Q1)` is equal to the median of the `n` smallest entries and the third quartile `(Q3)` is equal to the median of the `n` largest entries.\n",
        "\n",
        "If the number of entries is an odd number i.e. of the form `(2n + 1)`, then\n",
        "\n",
        "* the first quartile (Q1) is equal to the median of the n smallest entries\n",
        "* the third quartile (Q3) is equal to the median of the n largest entries\n",
        "* the second quartile(Q2) is the same as the ordinary median.\n",
        "\n",
        "Example: \n",
        "input = [75, 69, 56, 46, 47, 79, 92, 97, 89, 88, 36, 96, 105, 32, 116, 101, 79, 93, 91, 112]\n",
        "After sorting the above data set:\n",
        "[32, 36, 46, 47, 56, 69, 75, 79, 79, 88, 89, 91, 92, 93, 96, 97, 101, 105, 112, 116]\n",
        "Here the total number of terms is 20.\n",
        "\n",
        "The second quartile `(Q2)` or the median of the above data is `(88 + 89) / 2 = 88.5`\n",
        "The first quartile `(Q1)` is median of first `n` i.e. 10 terms (or `n` i.e. 10 smallest values) = 62.5\n",
        "The third quartile `(Q3)` is the median of `n` i.e. 10 largest values (or last `n` i.e. 10 values) = 96.5\n",
        "Then, `IQR = Q3 – Q1 = 96.5 – 62.5 = 34.0`\n",
        "\n",
        "\n",
        "Now, your job is to write a function to Caluate Interquartile Range on the second column of `iris` dataset, which you have loaded in the question 1.\n",
        "`hint`: We have created a new variable `sample2` and sliced the second column of the `iris` data. Please explore `np.percentile` function"
      ]
    },
    {
      "cell_type": "markdown",
      "source": [],
      "metadata": {
        "id": "InAssY5bzQzh"
      }
    },
    {
      "cell_type": "code",
      "source": [
        "test_sample = [75, 69, 56, 46, 47, 79, 92, 97, 89, 88, 36, 96, 105, 32, 116, 101, 79, 93, 91, 112]\n",
        "test_sample.sort()"
      ],
      "metadata": {
        "id": "Y5E-GJDGzR4J"
      },
      "execution_count": 161,
      "outputs": []
    },
    {
      "cell_type": "code",
      "execution_count": 162,
      "metadata": {
        "deletable": false,
        "id": "b9pap4PtE5mQ",
        "nbgrader": {
          "cell_type": "code",
          "checksum": "b9fa9c03b96da752988979dc18f31475",
          "grade": false,
          "grade_id": "my_quartile_ans",
          "locked": false,
          "schema_version": 3,
          "solution": true
        }
      },
      "outputs": [],
      "source": [
        "import numpy as np\n",
        "sample2 = list(iris.data[:,1])\n",
        "\n",
        "def my_quartile(sample2):\n",
        "    \"\"\"Caluate Interquartile Range of the given list.\"\"\"\n",
        "    # YOUR CODE HERE\n",
        "    num = len(sample2)\n",
        "    sample2.sort()\n",
        "    Q2 = my_median(sample2)\n",
        "    Q1 = my_median(sample2[:(num//2)])\n",
        "    Q3 = my_median(sample2[(num//2):])\n",
        "    \n",
        "    return Q3 - Q1\n",
        "    raise NotImplementedError()"
      ]
    },
    {
      "cell_type": "code",
      "source": [
        "#test checks\n",
        "Q1 = my_median(test_sample)\n",
        "Q2 = my_median(test_sample[:10])\n",
        "Q3 = my_median(test_sample[10:])\n",
        "Q1, Q2, Q3"
      ],
      "metadata": {
        "colab": {
          "base_uri": "https://localhost:8080/"
        },
        "id": "b9Mt1DoC3TRl",
        "outputId": "3593739e-de69-4477-87b3-b21a9c5a9196"
      },
      "execution_count": 163,
      "outputs": [
        {
          "output_type": "execute_result",
          "data": {
            "text/plain": [
              "(88.5, 62.5, 96.5)"
            ]
          },
          "metadata": {},
          "execution_count": 163
        }
      ]
    },
    {
      "cell_type": "code",
      "source": [
        "#test checks\n",
        "my_quartile(test_sample)"
      ],
      "metadata": {
        "colab": {
          "base_uri": "https://localhost:8080/"
        },
        "id": "runhXN9c3Dx0",
        "outputId": "1954c032-f2ec-411a-cd03-f6db3877862f"
      },
      "execution_count": 164,
      "outputs": [
        {
          "output_type": "execute_result",
          "data": {
            "text/plain": [
              "34.0"
            ]
          },
          "metadata": {},
          "execution_count": 164
        }
      ]
    },
    {
      "cell_type": "code",
      "execution_count": 165,
      "metadata": {
        "deletable": false,
        "editable": false,
        "id": "f2xlQ2igE5mR",
        "nbgrader": {
          "cell_type": "code",
          "checksum": "05188fb6903654dd84d84ca6f9a2b712",
          "grade": true,
          "grade_id": "my_quartile_test",
          "locked": false,
          "points": 2,
          "schema_version": 3,
          "solution": false
        }
      },
      "outputs": [],
      "source": [
        "\"\"\"Check that correct answers here\"\"\"\n",
        "import math\n",
        "assert math.isclose(my_quartile(sample2), 0.5, rel_tol=0.05)"
      ]
    },
    {
      "cell_type": "markdown",
      "metadata": {
        "id": "3viaglBtE5mR"
      },
      "source": [
        "---\n",
        "## Question 3: \n",
        "\n",
        "Write a function to calculate the `standard deviation` on the third column of `iris` dataset. We have created a new variable `sample3` and sliced the third column of the iris data. Please create a function that first calculate the variance then calculate `standard deviation`. Please do not use inbuilt `numpy.var` and `numpy.std` functions. Write your own codes. "
      ]
    },
    {
      "cell_type": "code",
      "execution_count": 166,
      "metadata": {
        "deletable": false,
        "id": "lnmnEfIYE5mR",
        "nbgrader": {
          "cell_type": "code",
          "checksum": "70829cc761711f2debabbca2051aa37a",
          "grade": false,
          "grade_id": "my_std_ans",
          "locked": false,
          "schema_version": 3,
          "solution": true,
          "task": false
        }
      },
      "outputs": [],
      "source": [
        "import math\n",
        "sample3 = list(iris.data[:,2])\n",
        "def my_std(sample3, ddof=0):\n",
        "    \"\"\"Write a program to calculate the standard deviation of 3rd column of iris dataset.\"\"\"\n",
        "    \n",
        "    # YOUR CODE HERE\n",
        "    mean = my_mean(sample3)\n",
        "    dev = []\n",
        "    for sample in sample3:\n",
        "      # print(sample)\n",
        "      dev.append((sample - mean) ** 2)\n",
        "    \n",
        "    var = sum(dev)/(len(sample3)-1)\n",
        "    std = math.sqrt(var)\n",
        "    return std\n",
        "    raise NotImplementedError()"
      ]
    },
    {
      "cell_type": "code",
      "source": [
        "mean = my_mean(sample3)\n",
        "mean"
      ],
      "metadata": {
        "colab": {
          "base_uri": "https://localhost:8080/"
        },
        "id": "7j8znCk9_D-k",
        "outputId": "9b59c782-6f37-419c-b220-eac80d508c4c"
      },
      "execution_count": 167,
      "outputs": [
        {
          "output_type": "execute_result",
          "data": {
            "text/plain": [
              "3.7580000000000027"
            ]
          },
          "metadata": {},
          "execution_count": 167
        }
      ]
    },
    {
      "cell_type": "code",
      "source": [],
      "metadata": {
        "id": "wiQCHNIj8326"
      },
      "execution_count": 167,
      "outputs": []
    },
    {
      "cell_type": "code",
      "execution_count": 168,
      "metadata": {
        "deletable": false,
        "editable": false,
        "id": "6AuPQgQfE5mS",
        "nbgrader": {
          "cell_type": "code",
          "checksum": "e5df038162dee97397ccffce2778b693",
          "grade": true,
          "grade_id": "my_std_test",
          "locked": true,
          "points": 1,
          "schema_version": 3,
          "solution": false,
          "task": false
        }
      },
      "outputs": [],
      "source": [
        "\"\"\"Test you solution\"\"\"\n",
        "assert math.isclose(my_std(sample3), 1.759, rel_tol=0.05)"
      ]
    },
    {
      "cell_type": "markdown",
      "metadata": {
        "id": "MxpRyuPvE5mT"
      },
      "source": [
        "---\n",
        "## Question 4:\n",
        "\n",
        "Write a program to find the mean of the 4th column of `iris` dataset. "
      ]
    },
    {
      "cell_type": "code",
      "execution_count": 169,
      "metadata": {
        "deletable": false,
        "id": "QKk8PKecE5mT",
        "nbgrader": {
          "cell_type": "code",
          "checksum": "f72ac649972796443392e8b5a7cabf66",
          "grade": false,
          "grade_id": "my_mean_ans",
          "locked": false,
          "schema_version": 3,
          "solution": true,
          "task": false
        }
      },
      "outputs": [],
      "source": [
        "sample4 = list(iris.data[:,3])\n",
        "\n",
        "def my_mean(sample4):\n",
        "    \"\"\"write a function to find the mean of the 4th column of iris data\"\"\"\n",
        "    # YOUR CODE HERE\n",
        "    return sum(sample4)/len(sample4)\n",
        "    raise NotImplementedError()"
      ]
    },
    {
      "cell_type": "code",
      "execution_count": 170,
      "metadata": {
        "deletable": false,
        "editable": false,
        "id": "cMX-OqiwE5mT",
        "nbgrader": {
          "cell_type": "code",
          "checksum": "6ad8a1583e1a2915d2f80df7a3d19921",
          "grade": true,
          "grade_id": "my_mean_test",
          "locked": true,
          "points": 1,
          "schema_version": 3,
          "solution": false,
          "task": false
        }
      },
      "outputs": [],
      "source": [
        "\"\"\"Test you solution\"\"\"\n",
        "assert math.isclose(my_mean(sample4), 1.19, rel_tol=0.05)"
      ]
    },
    {
      "cell_type": "markdown",
      "metadata": {
        "id": "5yBAIFR7E5mT"
      },
      "source": [
        "## Question 5\n",
        "\n",
        "Write a Pandas program to calculate the correlation between column 1 and column 3 of `iris` dataset. `Hint` use `from scipy import stats` to find a Pearson correlation coefficient. "
      ]
    },
    {
      "cell_type": "code",
      "execution_count": 171,
      "metadata": {
        "deletable": false,
        "id": "tpt1FXQlE5mU",
        "nbgrader": {
          "cell_type": "code",
          "checksum": "4d8031d5466b59f4e2a1a4ecbcdbebf7",
          "grade": false,
          "grade_id": "iris_correlation_ans",
          "locked": false,
          "schema_version": 3,
          "solution": true,
          "task": false
        }
      },
      "outputs": [],
      "source": [
        "import itertools\n",
        "from scipy import stats\n",
        "sample1 = list(iris.data[:,0])\n",
        "sample2 = list(iris.data[:,2])\n",
        "def iris_correlation(sample1, sample2):\n",
        "    \"\"\"calculate the correlation\"\"\"\n",
        "    # YOUR CODE HERE\n",
        "    pers = stats.pearsonr(sample1, sample2)\n",
        "    return pers[0]\n",
        "    raise NotImplementedError()"
      ]
    },
    {
      "cell_type": "code",
      "source": [
        "stats.pearsonr(sample1, sample2)"
      ],
      "metadata": {
        "colab": {
          "base_uri": "https://localhost:8080/"
        },
        "id": "S2_JnEV0A_O9",
        "outputId": "ed636792-b8e9-4b47-b7e0-62aac1816a6e"
      },
      "execution_count": 172,
      "outputs": [
        {
          "output_type": "execute_result",
          "data": {
            "text/plain": [
              "(0.8717537758865831, 1.0386674194498099e-47)"
            ]
          },
          "metadata": {},
          "execution_count": 172
        }
      ]
    },
    {
      "cell_type": "code",
      "execution_count": 173,
      "metadata": {
        "id": "uJmHnGzKE5mU"
      },
      "outputs": [],
      "source": [
        "\"\"\"Test you solution\"\"\"\n",
        "assert math.isclose(iris_correlation(sample1, sample2), 0.87, rel_tol=0.05)"
      ]
    },
    {
      "cell_type": "code",
      "source": [],
      "metadata": {
        "id": "KQEP8NiIAuNa"
      },
      "execution_count": null,
      "outputs": []
    }
  ],
  "metadata": {
    "colab": {
      "provenance": []
    },
    "kernelspec": {
      "display_name": "Python 3",
      "language": "python",
      "name": "python3"
    },
    "language_info": {
      "codemirror_mode": {
        "name": "ipython",
        "version": 3
      },
      "file_extension": ".py",
      "mimetype": "text/x-python",
      "name": "python",
      "nbconvert_exporter": "python",
      "pygments_lexer": "ipython3",
      "version": "3.7.10"
    }
  },
  "nbformat": 4,
  "nbformat_minor": 0
}