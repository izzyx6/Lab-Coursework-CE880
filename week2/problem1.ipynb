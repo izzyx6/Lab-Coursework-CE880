{
  "cells": [
    {
      "cell_type": "markdown",
      "metadata": {
        "id": "PkUykAsauLg7"
      },
      "source": [
        "---\n",
        "# Welcome to CE880\n",
        "### This is your week-2 : Problem 1 notebook\n",
        "\n",
        "For this problem set, we'll be using the Jupyter notebook and please upload this notebook to [Google Colab](https://colab.research.google.com/). \n"
      ]
    },
    {
      "cell_type": "markdown",
      "metadata": {
        "id": "RixmLT1GuLg8"
      },
      "source": [
        "---\n",
        "## Question 1:\n",
        "\n",
        "Write a function to pass a list of numbers and return log2 of the array in the list format. \n",
        "`Hint`: take input as list and inside the function covert it into numpy array then perform the function. `Example` : input `[1, 4, 8]` and and output should be:  `[0.0, 2.0, 3.0]` "
      ]
    },
    {
      "cell_type": "code",
      "source": [
        "NAME = \"ISREAL UFUMAKA\"\n",
        "COLLABORATORS = \"2204569\""
      ],
      "metadata": {
        "id": "0vrnfvk07PMF"
      },
      "execution_count": 85,
      "outputs": []
    },
    {
      "cell_type": "code",
      "execution_count": 86,
      "metadata": {
        "deletable": false,
        "nbgrader": {
          "cell_type": "code",
          "checksum": "03985fd3466b126f93d3e2de75ca8065",
          "grade": false,
          "grade_id": "myLog_ans",
          "locked": false,
          "schema_version": 3,
          "solution": true
        },
        "id": "sskdJm4yuLg9"
      },
      "outputs": [],
      "source": [
        "import numpy as np\n",
        "def myLog(mylist):\n",
        "    \"\"\"Write a function to pass a list of numbers and return log2 of the array. \"\"\"\n",
        "    # YOUR CODE HERE\n",
        "    mylist = np.array(mylist)\n",
        "    # print(mylist)\n",
        "    return list(np.log2(mylist))\n",
        "\n",
        "    raise NotImplementedError()"
      ]
    },
    {
      "cell_type": "code",
      "execution_count": 87,
      "metadata": {
        "colab": {
          "base_uri": "https://localhost:8080/"
        },
        "id": "zgH1PsqkuLg9",
        "outputId": "e962fed7-9947-46dd-c0ad-4676ac79b8b9"
      },
      "outputs": [
        {
          "output_type": "execute_result",
          "data": {
            "text/plain": [
              "[0.0, 2.0, 3.0]"
            ]
          },
          "metadata": {},
          "execution_count": 87
        }
      ],
      "source": [
        "in_array = [1, 4, 8]\n",
        "myLog(in_array)"
      ]
    },
    {
      "cell_type": "code",
      "execution_count": 88,
      "metadata": {
        "deletable": false,
        "editable": false,
        "nbgrader": {
          "cell_type": "code",
          "checksum": "54d845f84053c0db891ac97b1155919f",
          "grade": true,
          "grade_id": "myLog_test",
          "locked": false,
          "points": 1,
          "schema_version": 3,
          "solution": false
        },
        "id": "i3UW8UqvuLg-"
      },
      "outputs": [],
      "source": [
        "\"\"\"Check your output\"\"\"\n",
        "# Test case 1\n",
        "my = [1, 3, 5, 10**8]\n",
        "assert myLog(my) == [0.0, 1.584962500721156, 2.321928094887362, 26.575424759098897]\n",
        "\n",
        "# Test case 2\n",
        "my = [1, 100, 1000]\n",
        "assert myLog(my) == [0.0, 6.643856189774724, 9.965784284662087]"
      ]
    },
    {
      "cell_type": "markdown",
      "metadata": {
        "id": "RBCKtGfSuLg-"
      },
      "source": [
        "---\n",
        "\n",
        "## Question 2:\n",
        "\n",
        "The Fibonacci numbers are the numbers in the following integer sequence.\n",
        "`[0, 1, 1, 2, 3, 5, 8, 13, 21, 34, 55, 89, 144, ...]`\n",
        "In mathematical terms, the sequence $F_n$ of Fibonacci numbers is defined by the recurrence relation \n",
        "\n",
        "$$\n",
        "F_n = F_{n-1} + F_{n-2}\n",
        "$$\n",
        "with seed values  \n",
        "$$\n",
        " F_0 = 0 \\& F_1 = 1.\n",
        "$$\n",
        "\n",
        "\n",
        "Your task here is to write a code for printing $n^{th}$ Fibonacci number\n",
        "`Example`: Input: `myfibonacci(9)` and Output should be `34`. Remember your index starts from 0."
      ]
    },
    {
      "cell_type": "code",
      "execution_count": 89,
      "metadata": {
        "deletable": false,
        "nbgrader": {
          "cell_type": "code",
          "checksum": "f133cbe1fe662f2a7a1a9e535f2e6f98",
          "grade": false,
          "grade_id": "myfibonacci_ans",
          "locked": false,
          "schema_version": 3,
          "solution": true
        },
        "id": "Z82PRFAquLg_"
      },
      "outputs": [],
      "source": [
        "def myfibonacci(n):\n",
        "    \"\"\"Function for nth Fibonacci number\"\"\"\n",
        "    # YOUR CODE HERE\n",
        "    if n == 0:\n",
        "      return 0\n",
        "    elif n == 1:\n",
        "      return 1\n",
        "    \n",
        "    return myfibonacci(n-1) + myfibonacci(n-2)\n",
        "\n",
        "    raise NotImplementedError()"
      ]
    },
    {
      "cell_type": "code",
      "execution_count": 90,
      "metadata": {
        "colab": {
          "base_uri": "https://localhost:8080/"
        },
        "id": "k7vdScxSuLg_",
        "outputId": "125d95ea-3da8-4a6b-ef9b-9ee64b8f7cf1"
      },
      "outputs": [
        {
          "output_type": "execute_result",
          "data": {
            "text/plain": [
              "34"
            ]
          },
          "metadata": {},
          "execution_count": 90
        }
      ],
      "source": [
        "myfibonacci(9)"
      ]
    },
    {
      "cell_type": "code",
      "execution_count": 91,
      "metadata": {
        "deletable": false,
        "editable": false,
        "nbgrader": {
          "cell_type": "code",
          "checksum": "2ff1c39846a83f90fb2e7663361ce659",
          "grade": true,
          "grade_id": "myfibonacci_test",
          "locked": false,
          "points": 1,
          "schema_version": 3,
          "solution": false
        },
        "id": "lJJ9am5buLhA"
      },
      "outputs": [],
      "source": [
        "\"\"\"Check that correct fibonacci number\"\"\"\n",
        "assert myfibonacci(0) == 0\n",
        "assert myfibonacci(1) == 1\n",
        "assert myfibonacci(2) == 1\n",
        "assert myfibonacci(3) == 2\n",
        "assert myfibonacci(4) == 3\n",
        "assert myfibonacci(5) == 5\n",
        "assert myfibonacci(6) == 8\n",
        "assert myfibonacci(7) == 13\n",
        "assert myfibonacci(8) == 21\n",
        "assert myfibonacci(9) == 34"
      ]
    },
    {
      "cell_type": "markdown",
      "metadata": {
        "id": "my0Kr9xfuLhA"
      },
      "source": [
        "---\n",
        "## Question 3: \n",
        "\n",
        " Write a program, which accept a list with `nan`s in it and count the maximum number of consecutive repeated `nan`.\n",
        " Example: In the `a = [nan, nan, 0.1, nan, 0.16, 1, 0.16, 0.9999, 0.0001, 0.16, 0.101, nan, 0.16]` and answer is 2."
      ]
    },
    {
      "cell_type": "code",
      "execution_count": 92,
      "metadata": {
        "deletable": false,
        "nbgrader": {
          "cell_type": "code",
          "checksum": "e0105f978e552425f896467b2ad9740d",
          "grade": false,
          "grade_id": "max_nan_ans",
          "locked": false,
          "schema_version": 3,
          "solution": true,
          "task": false
        },
        "id": "IDEJOYTOuLhA"
      },
      "outputs": [],
      "source": [
        "from numpy import nan\n",
        "# YOUR CODE HERE\n",
        "def max_rep_nan(mylist):\n",
        "  # creating a counter and an empty list to hold counts\n",
        "  count = 0\n",
        "  counter_holder = []\n",
        "\n",
        "  # checking if an empty list is passed and returning 0 if no empty\n",
        "  if len(mylist) == 0:\n",
        "    return 0\n",
        "  # looping through my list to check which item is nan and keeping count\n",
        "  for item in mylist:\n",
        "    # print(item)\n",
        "    if np.isnan(item):\n",
        "      count += 1\n",
        "    else:\n",
        "      # resetting counter if next index doesn't contain nan\n",
        "      counter_holder.append(count)\n",
        "      count = 0\n",
        "  # print(counter_holder)\n",
        "  return max(counter_holder)\n",
        "  raise NotImplementedError()"
      ]
    },
    {
      "cell_type": "code",
      "execution_count": 93,
      "metadata": {
        "colab": {
          "base_uri": "https://localhost:8080/"
        },
        "id": "s36zttXFuLhB",
        "outputId": "401cdf07-a9fd-48b1-c6ba-573bf5124a66"
      },
      "outputs": [
        {
          "output_type": "execute_result",
          "data": {
            "text/plain": [
              "2"
            ]
          },
          "metadata": {},
          "execution_count": 93
        }
      ],
      "source": [
        "a = [nan, nan, 0.1, nan, 0.16, 1, 0.16, 0.9999, 0.0001, 0.16, 0.101, nan, 0.16]\n",
        "max_rep_nan(a)"
      ]
    },
    {
      "cell_type": "code",
      "execution_count": 94,
      "metadata": {
        "deletable": false,
        "editable": false,
        "nbgrader": {
          "cell_type": "code",
          "checksum": "ce154839fcd97350c952ce0aea65171e",
          "grade": true,
          "grade_id": "max_rep_test",
          "locked": true,
          "points": 0,
          "schema_version": 3,
          "solution": false,
          "task": false
        },
        "id": "iqH_yjcGuLhB"
      },
      "outputs": [],
      "source": [
        "\"\"\"Check your answer by running this cell\"\"\"\n",
        "a = [nan, nan, nan, 0.1, nan, 0.16, 1, 0.16, 0.101, nan]\n",
        "assert max_rep_nan(a) == 3\n",
        "\n",
        "a = [nan, nan, nan, nan, nan, 0.16, 1, 0.16, 0.101, nan]\n",
        "assert max_rep_nan(a) == 5\n",
        "\n",
        "a = [nan, 10, nan, 0.1, nan, 0.16, 1, 0.16, 0.101, nan]\n",
        "assert max_rep_nan(a) == 1\n",
        "\n",
        "a = []\n",
        "assert max_rep_nan(a) == 0"
      ]
    },
    {
      "cell_type": "markdown",
      "metadata": {
        "id": "GpbiFQOLuLhB"
      },
      "source": [
        "## Pandas Data Frame \n"
      ]
    },
    {
      "cell_type": "code",
      "execution_count": 95,
      "metadata": {
        "id": "9YYCjgnAuLhB"
      },
      "outputs": [],
      "source": [
        "from sklearn import datasets\n",
        "import pandas as pd"
      ]
    },
    {
      "cell_type": "code",
      "execution_count": 96,
      "metadata": {
        "colab": {
          "base_uri": "https://localhost:8080/"
        },
        "id": "xvjFJ2F9uLhC",
        "outputId": "0d3649fa-1fd1-4c4e-f487-c9bcf7765cab"
      },
      "outputs": [
        {
          "output_type": "stream",
          "name": "stdout",
          "text": [
            "       0    1    2    3\n",
            "0    5.1  3.5  1.4  0.2\n",
            "1    4.9  3.0  1.4  0.2\n",
            "2    4.7  3.2  1.3  0.2\n",
            "3    4.6  3.1  1.5  0.2\n",
            "4    5.0  3.6  1.4  0.2\n",
            "..   ...  ...  ...  ...\n",
            "145  6.7  3.0  5.2  2.3\n",
            "146  6.3  2.5  5.0  1.9\n",
            "147  6.5  3.0  5.2  2.0\n",
            "148  6.2  3.4  5.4  2.3\n",
            "149  5.9  3.0  5.1  1.8\n",
            "\n",
            "[150 rows x 4 columns]\n",
            "[0 0 0 0 0 0 0 0 0 0 0 0 0 0 0 0 0 0 0 0 0 0 0 0 0 0 0 0 0 0 0 0 0 0 0 0 0\n",
            " 0 0 0 0 0 0 0 0 0 0 0 0 0 1 1 1 1 1 1 1 1 1 1 1 1 1 1 1 1 1 1 1 1 1 1 1 1\n",
            " 1 1 1 1 1 1 1 1 1 1 1 1 1 1 1 1 1 1 1 1 1 1 1 1 1 1 2 2 2 2 2 2 2 2 2 2 2\n",
            " 2 2 2 2 2 2 2 2 2 2 2 2 2 2 2 2 2 2 2 2 2 2 2 2 2 2 2 2 2 2 2 2 2 2 2 2 2\n",
            " 2 2]\n"
          ]
        }
      ],
      "source": [
        "# import some data to play with\n",
        "iris = datasets.load_iris()\n",
        "X = pd.DataFrame(iris.data[:, :])  # we are taking all features.\n",
        "y = iris.target\n",
        "print(X)\n",
        "print(y)"
      ]
    },
    {
      "cell_type": "markdown",
      "metadata": {
        "id": "xybNs1S2uLhC"
      },
      "source": [
        "---\n",
        "## Question 4:\n",
        "\n",
        "Write a function to find the max number in the each column in the IRIS dataset and return the output as a list,"
      ]
    },
    {
      "cell_type": "code",
      "execution_count": 97,
      "metadata": {
        "deletable": false,
        "nbgrader": {
          "cell_type": "code",
          "checksum": "761394defb38fe7012e55b761498e8f3",
          "grade": false,
          "grade_id": "filter_1_ans",
          "locked": false,
          "schema_version": 3,
          "solution": true,
          "task": false
        },
        "id": "0VSRbagGuLhC"
      },
      "outputs": [],
      "source": [
        "def my_max_min(X):\n",
        "    \"\"\"Write a function to find the max number in the each column and return \n",
        "    as a list.\"\"\"\n",
        "    # YOUR CODE HERE\n",
        "    return list(X.max())\n",
        "    raise NotImplementedError()"
      ]
    },
    {
      "cell_type": "code",
      "source": [],
      "metadata": {
        "id": "o36JQ5p14z6J"
      },
      "execution_count": 97,
      "outputs": []
    },
    {
      "cell_type": "code",
      "execution_count": 98,
      "metadata": {
        "deletable": false,
        "editable": false,
        "nbgrader": {
          "cell_type": "code",
          "checksum": "1251df5df0c674ebfde7e6d26f82ddbd",
          "grade": true,
          "grade_id": "filter_1_test",
          "locked": true,
          "points": 1,
          "schema_version": 3,
          "solution": false,
          "task": false
        },
        "id": "fu0HWn2CuLhC"
      },
      "outputs": [],
      "source": [
        "\"\"\"Check your output\"\"\"\n",
        "assert my_max_min(X) == [7.9, 4.4, 6.9, 2.5]"
      ]
    },
    {
      "cell_type": "markdown",
      "metadata": {
        "id": "Za0kkcewuLhC"
      },
      "source": [
        "---\n",
        "## Question 5:\n",
        "\n",
        "\n",
        "Write a function to calculate the `mean` and `standard deviation` of IRIS dataset (last column only). `Hint`: You can use NumPy aggregate functions. Create a list and append value to it and return the output. "
      ]
    },
    {
      "cell_type": "code",
      "execution_count": 99,
      "metadata": {
        "deletable": false,
        "nbgrader": {
          "cell_type": "code",
          "checksum": "9795f3163ba2f778818d6e5e90f6a38e",
          "grade": false,
          "grade_id": "stats_ans",
          "locked": false,
          "schema_version": 3,
          "solution": true,
          "task": false
        },
        "id": "BSAbeeNkuLhD"
      },
      "outputs": [],
      "source": [
        "def stats(X):\n",
        "    \"\"\"Write a functon to calculate mean and standard deviation of IRIS dataset (last column only).\"\"\"\n",
        "    # YOUR CODE HERE\n",
        "    return [X[3].mean(), X[3].std()]\n",
        "    raise NotImplementedError()"
      ]
    },
    {
      "cell_type": "code",
      "source": [],
      "metadata": {
        "id": "bhsvYpbK6oCl"
      },
      "execution_count": 99,
      "outputs": []
    },
    {
      "cell_type": "code",
      "execution_count": 100,
      "metadata": {
        "deletable": false,
        "editable": false,
        "nbgrader": {
          "cell_type": "code",
          "checksum": "396296f204435ec95d657eae34e3874c",
          "grade": true,
          "grade_id": "stats_test",
          "locked": true,
          "points": 2,
          "schema_version": 3,
          "solution": false,
          "task": false
        },
        "id": "SvUKprBVuLhD"
      },
      "outputs": [],
      "source": [
        "\"\"\"Check your output\"\"\"\n",
        "# Test case\n",
        "assert stats(X) == [1.1993333333333336, 0.7622376689603465]"
      ]
    },
    {
      "cell_type": "code",
      "execution_count": null,
      "metadata": {
        "id": "shBszebguLhD"
      },
      "outputs": [],
      "source": []
    }
  ],
  "metadata": {
    "kernelspec": {
      "display_name": "Python 3",
      "language": "python",
      "name": "python3"
    },
    "language_info": {
      "codemirror_mode": {
        "name": "ipython",
        "version": 3
      },
      "file_extension": ".py",
      "mimetype": "text/x-python",
      "name": "python",
      "nbconvert_exporter": "python",
      "pygments_lexer": "ipython3",
      "version": "3.7.10"
    },
    "colab": {
      "provenance": []
    }
  },
  "nbformat": 4,
  "nbformat_minor": 0
}