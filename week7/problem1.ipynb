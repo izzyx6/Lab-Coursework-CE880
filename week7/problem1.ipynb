{
 "cells": [
  {
   "cell_type": "markdown",
   "metadata": {},
   "source": [
    "---\n",
    "# Welcome to CE880\n",
    "### This is your week-7 : Problem notebook\n",
    "\n",
    "For this problem set, we'll be using the Jupyter notebook and please upload this notebook to [Google Colab](https://colab.research.google.com/). "
   ]
  },
  {
   "cell_type": "code",
   "execution_count": 31,
   "metadata": {},
   "outputs": [],
   "source": [
    "NAME = \"ISREAL UFUMAKA\"\n",
    "COLLABORATORS = \"2204569\""
   ]
  },
  {
   "cell_type": "markdown",
   "metadata": {},
   "source": [
    "---\n",
    "## Question 1: \n",
    "\n",
    "#### Bootstrapping\n",
    "\n",
    "We are generating a random vector, which will be our population, whose law of distribution (expected to be the same as that of the population) is unknown. Write a function to pick a sample from our population and by applying the Bootstrapping procedure, where sample `size=300`: and `B=1000` number of re-sampling"
   ]
  },
  {
   "cell_type": "code",
   "execution_count": 32,
   "metadata": {
    "deletable": false,
    "nbgrader": {
     "cell_type": "code",
     "checksum": "005d99c1714e98b5079cbdc07c12a0b5",
     "grade": false,
     "grade_id": "my_bootstrapping_ans",
     "locked": false,
     "schema_version": 3,
     "solution": true,
     "task": false
    }
   },
   "outputs": [
    {
     "name": "stdout",
     "output_type": "stream",
     "text": [
      "253.76\n"
     ]
    }
   ],
   "source": [
    "import numpy as np\n",
    "np.random.seed(123)\n",
    "pop = np.random.randint(0,500 , size=100)\n",
    "print(pop.mean()) # Print population mean\n",
    "sample = np.random.choice(pop, size=300) #so n=300\n",
    "\n",
    "def my_bootstrapping():\n",
    "    \"\"\"Write a function to pick a sample from our population and by applying the\n",
    "    Bootstrapping procedure, where sample size=300: and B=1000 number of re-sampling \"\"\"\n",
    "    # YOUR CODE HERE\n",
    "    return sample.mean()\n",
    "    raise NotImplementedError()"
   ]
  },
  {
   "cell_type": "code",
   "execution_count": 33,
   "metadata": {
    "deletable": false,
    "editable": false,
    "nbgrader": {
     "cell_type": "code",
     "checksum": "a88c4bb109aa53b9b69cb81407e1697a",
     "grade": true,
     "grade_id": "my_bootstrapping_test",
     "locked": true,
     "points": 2,
     "schema_version": 3,
     "solution": false,
     "task": false
    }
   },
   "outputs": [],
   "source": [
    "# Check you solution by running this cell\n",
    "import math\n",
    "assert math.isclose(my_bootstrapping(), 253.241, rel_tol = 0.05)"
   ]
  },
  {
   "cell_type": "markdown",
   "metadata": {},
   "source": [
    "---\n",
    "## Question 2: \n",
    "\n",
    "#### Majority Voting\n",
    "Given a list = `[1,2,3,1,2,1,1,1,3,2,2,1]`. Write a function to find the majority voting."
   ]
  },
  {
   "cell_type": "code",
   "execution_count": 34,
   "metadata": {},
   "outputs": [],
   "source": [
    "from collections import Counter"
   ]
  },
  {
   "cell_type": "code",
   "execution_count": 35,
   "metadata": {
    "deletable": false,
    "nbgrader": {
     "cell_type": "code",
     "checksum": "0ae329697ba80e727456a21d0886468f",
     "grade": false,
     "grade_id": "my_pairedttest_ans",
     "locked": false,
     "schema_version": 3,
     "solution": true,
     "task": false
    }
   },
   "outputs": [],
   "source": [
    "# Example of the Paired Student's t-test\n",
    "a = np.array([1,2,3,1,2,1,1,1,3,2,2,1])\n",
    "\n",
    "def my_majorityvote():\n",
    "    \"\"\"Write a function to find the majority voting.\"\"\"\n",
    "    # YOUR CODE HERE\n",
    "    c = Counter(a)\n",
    "    return c.most_common(1)[0][0]\n",
    "    raise NotImplementedError()"
   ]
  },
  {
   "cell_type": "code",
   "execution_count": 36,
   "metadata": {
    "deletable": false,
    "editable": false,
    "nbgrader": {
     "cell_type": "code",
     "checksum": "539ec2b0b6d14bd7fdbc0d2ba86a2b84",
     "grade": true,
     "grade_id": "my_pairedttest_test",
     "locked": true,
     "points": 2,
     "schema_version": 3,
     "solution": false,
     "task": false
    }
   },
   "outputs": [],
   "source": [
    "# Check you solution by running this cell\n",
    "import math\n",
    "assert math.isclose(my_majorityvote(), 1, rel_tol = 0.05)"
   ]
  },
  {
   "cell_type": "markdown",
   "metadata": {},
   "source": [
    "---\n",
    "## Question 3: \n",
    "\n",
    "#### Decision Tree\n",
    "USe the IRIS dataset from `sklearn` to build a decision tree classifier. The dataset contains information for three classes of the IRIS plant, namely IRIS Setosa, IRIS Versicolour, and IRIS Virginica, with the following attributes: sepal length, sepal width, petal length, and petal width. Your aim is to train a decision tree on training data and return the test accuracy."
   ]
  },
  {
   "cell_type": "code",
   "execution_count": 40,
   "metadata": {},
   "outputs": [],
   "source": [
    "NAME = \"ISREAL UFUMAKA\"\n",
    "COLLABORATORS = \"2204569\""
   ]
  },
  {
   "cell_type": "code",
   "execution_count": 37,
   "metadata": {
    "deletable": false,
    "nbgrader": {
     "cell_type": "code",
     "checksum": "69192f23f1a94dcd4dd6b703633eccfc",
     "grade": false,
     "grade_id": "my_DTree_ans",
     "locked": false,
     "schema_version": 3,
     "solution": true,
     "task": false
    }
   },
   "outputs": [],
   "source": [
    "import pandas as pd\n",
    "import numpy as np\n",
    "from sklearn.datasets import load_iris\n",
    "from sklearn.metrics import accuracy_score\n",
    "from sklearn.tree import DecisionTreeClassifier\n",
    "from sklearn.ensemble import RandomForestClassifier\n",
    "from sklearn.metrics import accuracy_score\n",
    "\n",
    "# Reading the Iris.csv file\n",
    "data = load_iris()\n",
    "\n",
    "# Extracting Attributes / Features\n",
    "X = data.data\n",
    "\n",
    "# Extracting Target / Class Labels\n",
    "y = data.target\n",
    "\n",
    "# Import Library for splitting data\n",
    "from sklearn.model_selection import train_test_split\n",
    "\n",
    "# Creating Train and Test datasets\n",
    "X_train, X_test, y_train, y_test = train_test_split(X,y, random_state = 50, test_size = 0.25)\n",
    "\n",
    "def my_DTree():\n",
    "    \"\"\"Write code to to train a decision tree classifier and return the test accuracy\"\"\"\n",
    "    # YOUR CODE HERE\n",
    "     # Create a decision tree classifier\n",
    "    clf = DecisionTreeClassifier()\n",
    "\n",
    "    # Train the classifier using the training data\n",
    "    clf.fit(X_train, y_train)\n",
    "\n",
    "    # Predict labels for the test data\n",
    "    y_pred = clf.predict(X_test)\n",
    "\n",
    "    # Calculate the test accuracy\n",
    "    accuracy = accuracy_score(y_test, y_pred)\n",
    "    return accuracy\n",
    "    raise NotImplementedError()"
   ]
  },
  {
   "cell_type": "code",
   "execution_count": 38,
   "metadata": {
    "deletable": false,
    "editable": false,
    "nbgrader": {
     "cell_type": "code",
     "checksum": "e56689327ed8c774d916ab7440966ee7",
     "grade": true,
     "grade_id": "my_DTree_test",
     "locked": true,
     "points": 2,
     "schema_version": 3,
     "solution": false,
     "task": false
    }
   },
   "outputs": [],
   "source": [
    "# Check you solution by running this cell\n",
    "import math\n",
    "assert math.isclose(my_DTree(), 0.94736, rel_tol = 0.05)"
   ]
  },
  {
   "cell_type": "code",
   "execution_count": null,
   "metadata": {},
   "outputs": [],
   "source": []
  },
  {
   "cell_type": "code",
   "execution_count": null,
   "metadata": {},
   "outputs": [],
   "source": []
  }
 ],
 "metadata": {
  "kernelspec": {
   "display_name": "Python 3 (ipykernel)",
   "language": "python",
   "name": "python3"
  },
  "language_info": {
   "codemirror_mode": {
    "name": "ipython",
    "version": 3
   },
   "file_extension": ".py",
   "mimetype": "text/x-python",
   "name": "python",
   "nbconvert_exporter": "python",
   "pygments_lexer": "ipython3",
   "version": "3.9.13"
  }
 },
 "nbformat": 4,
 "nbformat_minor": 1
}
